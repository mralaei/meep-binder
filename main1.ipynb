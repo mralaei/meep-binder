{
 "cells": [
  {
   "cell_type": "code",
   "execution_count": null,
   "id": "a9f96360",
   "metadata": {},
   "outputs": [],
   "source": []
  },
  {
   "cell_type": "code",
   "execution_count": null,
   "id": "f9f2c1a1",
   "metadata": {},
   "outputs": [],
   "source": [
    "import meep as mp\n",
    "import numpy as np\n",
    "import matplotlib.pyplot as plt\n",
    "\n",
    "# تنظیمات سلول محاسباتی\n",
    "cell = mp.Vector3(16, 0, 0)\n",
    "\n",
    "# تعریف بلوک دی‌الکتریک\n",
    "geometry = [mp.Block(mp.Vector3(1, 1, mp.inf),\n",
    "                     center=mp.Vector3(),\n",
    "                     material=mp.Medium(epsilon=12))]\n",
    "\n",
    "# منبع پالس گاوسی\n",
    "sources = [mp.Source(mp.GaussianSource(frequency=1.0, fwidth=0.4),\n",
    "                     component=mp.Ez,\n",
    "                     center=mp.Vector3(-7))]\n",
    "\n",
    "# گیرنده در سمت راست ساختار\n",
    "nfreq = 100  # تعداد نقاط فرکانسی\n",
    "sim = mp.Simulation(cell_size=cell,\n",
    "                    geometry=geometry,\n",
    "                    sources=sources,\n",
    "                    resolution=20)\n",
    "\n",
    "# تعریف گیرنده فرکانسی\n",
    "trans = sim.add_flux(1.0, 0.4, nfreq, mp.FluxRegion(center=mp.Vector3(7)))\n",
    "\n",
    "# اجرای شبیه‌سازی\n",
    "sim.run(until=200)\n",
    "\n",
    "# استخراج طیف فرکانسی\n",
    "frequencies = mp.get_flux_freqs(trans)\n",
    "flux_values = mp.get_fluxes(trans)\n",
    "\n",
    "# رسم طیف\n",
    "plt.figure(figsize=(8, 4))\n",
    "plt.plot(frequencies, flux_values)\n",
    "plt.xlabel(\"Frequency\")\n",
    "plt.ylabel(\"Transmitted Flux\")\n",
    "plt.title(\"تحلیل طیفی عبور از ساختار دی‌الکتریک\")\n",
    "plt.grid(True)\n",
    "plt.show()\n"
   ]
  }
 ],
 "metadata": {
  "language_info": {
   "name": "python"
  }
 },
 "nbformat": 4,
 "nbformat_minor": 5
}
