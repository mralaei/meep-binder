{
 "cells": [
  {
   "cell_type": "code",
   "execution_count": null,
   "id": "e9d68777",
   "metadata": {},
   "outputs": [],
   "source": []
  },
  {
   "cell_type": "code",
   "execution_count": null,
   "id": "11891646",
   "metadata": {},
   "outputs": [],
   "source": [
    "import meep as mp\n",
    "import numpy as np\n",
    "import matplotlib.pyplot as plt\n",
    "\n",
    "# تنظیمات سلول محاسباتی\n",
    "cell = mp.Vector3(16, 8, 0)\n",
    "\n",
    "# تعریف بلوک دی‌الکتریک\n",
    "geometry = [mp.Block(mp.Vector3(1, 1, mp.inf),\n",
    "                     center=mp.Vector3(),\n",
    "                     material=mp.Medium(epsilon=12))]\n",
    "\n",
    "# تعریف منبع موج پیوسته\n",
    "sources = [mp.Source(mp.ContinuousSource(frequency=1.0),\n",
    "                     component=mp.Ez,\n",
    "                     center=mp.Vector3(-7, 0))]\n",
    "\n",
    "# تعریف شبیه‌سازی\n",
    "sim = mp.Simulation(cell_size=cell,\n",
    "                    geometry=geometry,\n",
    "                    sources=sources,\n",
    "                    resolution=20)\n",
    "\n",
    "# اجرای شبیه‌سازی و ذخیره‌ی میدان‌ها\n",
    "sim.run(mp.at_every(0.5, mp.output_efield_z), until=50)\n",
    "\n",
    "# گرفتن داده‌ی میدان Ez\n",
    "ez_data = sim.get_array(center=mp.Vector3(), size=cell, component=mp.Ez)\n",
    "\n",
    "# رسم میدان Ez\n",
    "plt.figure(figsize=(10, 5))\n",
    "plt.imshow(ez_data.T, interpolation='spline36', cmap='RdBu', origin='lower')\n",
    "plt.colorbar(label='Ez field')\n",
    "plt.title('میدان الکتریکی Ez در پایان شبیه‌سازی')\n",
    "plt.xlabel('X')\n",
    "plt.ylabel('Y')\n",
    "plt.show()\n"
   ]
  }
 ],
 "metadata": {
  "language_info": {
   "name": "python"
  }
 },
 "nbformat": 4,
 "nbformat_minor": 5
}
