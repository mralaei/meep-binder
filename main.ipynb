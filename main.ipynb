import meep as mp

cell = mp.Vector3(16, 8, 0)
geometry = [mp.Block(mp.Vector3(1, 1, mp.inf), center=mp.Vector3(), material=mp.Medium(epsilon=12))]
sim = mp.Simulation(cell_size=cell, geometry=geometry, resolution=10)
sim.run(until=10)
