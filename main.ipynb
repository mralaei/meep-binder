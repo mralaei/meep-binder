{
 "cells": [
  {
   "cell_type": "code",
   "execution_count": null,
   "id": "fe0ff670",
   "metadata": {},
   "outputs": [],
   "source": []
  },
  {
   "cell_type": "code",
   "execution_count": null,
   "id": "ee740e28",
   "metadata": {},
   "outputs": [],
   "source": [
    "import meep as mp\n",
    "\n",
    "cell = mp.Vector3(16, 8, 0)\n",
    "geometry = [mp.Block(mp.Vector3(1, 1, mp.inf), center=mp.Vector3(), material=mp.Medium(epsilon=12))]\n",
    "sim = mp.Simulation(cell_size=cell, geometry=geometry, resolution=10)\n",
    "sim.run(until=10)"
   ]
  }
 ],
 "metadata": {
  "language_info": {
   "name": "python"
  }
 },
 "nbformat": 4,
 "nbformat_minor": 5
}
