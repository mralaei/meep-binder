{
 "cells": [
  {
   "cell_type": "code",
   "execution_count": null,
   "id": "88a0c3e2",
   "metadata": {},
   "outputs": [],
   "source": []
  },
  {
   "cell_type": "code",
   "execution_count": null,
   "id": "7aef2e59",
   "metadata": {},
   "outputs": [],
   "source": [
    "import meep as mp\n",
    "\n",
    "# تنظیم سلول محاسباتی\n",
    "cell = mp.Vector3(20, 10, 0)\n",
    "\n",
    "# تعریف تگ مستطیلی\n",
    "tag1 = mp.Block(mp.Vector3(1, 0.2, mp.inf),\n",
    "                center=mp.Vector3(-5, 0),\n",
    "                material=mp.Medium(epsilon=12))\n",
    "\n",
    "# تعریف تگ حلقه‌ای (با شکاف مرکزی)\n",
    "tag2 = mp.Block(mp.Vector3(1, 0.2, mp.inf),\n",
    "                center=mp.Vector3(5, 0),\n",
    "                material=mp.Medium(epsilon=12))\n",
    "\n",
    "geometry = [tag1, tag2]\n",
    "\n",
    "# منبع پالس گاوسی\n",
    "sources = [mp.Source(mp.GaussianSource(frequency=2.0, fwidth=1.0),\n",
    "                     component=mp.Ez,\n",
    "                     center=mp.Vector3(0, -4))]\n",
    "\n",
    "# تعریف شبیه‌سازی\n",
    "sim = mp.Simulation(cell_size=cell,\n",
    "                    geometry=geometry,\n",
    "                    sources=sources,\n",
    "                    resolution=20)\n",
    "\n",
    "sim.run(until=200)\n"
   ]
  }
 ],
 "metadata": {
  "language_info": {
   "name": "python"
  }
 },
 "nbformat": 4,
 "nbformat_minor": 5
}
